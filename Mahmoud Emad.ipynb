{
 "cells": [
  {
   "cell_type": "code",
   "execution_count": 1,
   "id": "97f2c79f-5615-407e-976b-4d4896cd0516",
   "metadata": {},
   "outputs": [
    {
     "name": "stdout",
     "output_type": "stream",
     "text": [
      "Hello from Jupyter\n"
     ]
    }
   ],
   "source": [
    "print('Hello from Jupyter')\n"
   ]
  },
  {
   "cell_type": "code",
   "execution_count": 2,
   "id": "bc3af205-4812-4c0d-9f12-035a59eeb32f",
   "metadata": {},
   "outputs": [
    {
     "name": "stdout",
     "output_type": "stream",
     "text": [
      "Hello\n",
      "16\n"
     ]
    }
   ],
   "source": [
    "my_str = 'Hello'\n",
    "my_int = 16\n",
    "\n",
    "print(my_str)\n",
    "print(my_int)"
   ]
  },
  {
   "cell_type": "code",
   "execution_count": 3,
   "id": "7069ae36-161c-4834-876f-152e25fa6f8b",
   "metadata": {},
   "outputs": [
    {
     "data": {
      "text/plain": [
       "'Hello'"
      ]
     },
     "execution_count": 3,
     "metadata": {},
     "output_type": "execute_result"
    }
   ],
   "source": [
    "my_str"
   ]
  },
  {
   "cell_type": "code",
   "execution_count": 4,
   "id": "26834ace-9b99-4834-8c0b-73661943589e",
   "metadata": {},
   "outputs": [
    {
     "name": "stdout",
     "output_type": "stream",
     "text": [
      "You have many apples!\n"
     ]
    }
   ],
   "source": [
    "number_of_apples = 5\n",
    "\n",
    "if number_of_apples < 1:\n",
    "    print('You have no apples')\n",
    "elif number_of_apples == 1:\n",
    "    print('You have one apple')\n",
    "elif number_of_apples < 4:\n",
    "    print('You have a few apples')\n",
    "else:\n",
    "    print('You have many apples!')"
   ]
  },
  {
   "cell_type": "code",
   "execution_count": 5,
   "id": "8b97e82f-19f4-4a74-bdb6-c9fd49685510",
   "metadata": {},
   "outputs": [
    {
     "data": {
      "text/plain": [
       "'Mahmoud'"
      ]
     },
     "execution_count": 5,
     "metadata": {},
     "output_type": "execute_result"
    }
   ],
   "source": [
    "student_names = ['Mahmoud', 'Emad', 'Ahmed', 'Mostafa']\n",
    "student_names[0]"
   ]
  },
  {
   "cell_type": "code",
   "execution_count": 6,
   "id": "24885de7-d289-4fa5-9ca5-6ec633315b71",
   "metadata": {},
   "outputs": [
    {
     "data": {
      "text/plain": [
       "['Ahmed', 'Mostafa']"
      ]
     },
     "execution_count": 6,
     "metadata": {},
     "output_type": "execute_result"
    }
   ],
   "source": [
    "student_names[2:]\n"
   ]
  },
  {
   "cell_type": "code",
   "execution_count": 7,
   "id": "6ec7a1c7-8208-4c78-b20b-ea75e6b6875f",
   "metadata": {},
   "outputs": [
    {
     "data": {
      "text/plain": [
       "['Khaled', 'Mahmoud', 'Emad', 'Ahmed', 'Mostafa', 'Ali']"
      ]
     },
     "execution_count": 7,
     "metadata": {},
     "output_type": "execute_result"
    }
   ],
   "source": [
    "student_names.append('Ali')\n",
    "student_names\n",
    "\n",
    "student_names.insert(0, 'Khaled')\n",
    "student_names"
   ]
  },
  {
   "cell_type": "code",
   "execution_count": 8,
   "id": "7f465696-abb1-4358-acbe-fffc6079a292",
   "metadata": {},
   "outputs": [
    {
     "data": {
      "text/plain": [
       "['Khaled', 'Mahmoud', 'Ahmed', 'Mostafa', 'Ali']"
      ]
     },
     "execution_count": 8,
     "metadata": {},
     "output_type": "execute_result"
    }
   ],
   "source": [
    "del student_names[2]\n",
    "student_names"
   ]
  },
  {
   "cell_type": "code",
   "execution_count": 9,
   "id": "a3d58ef7-fb17-4b19-a511-2bdf5f19471e",
   "metadata": {},
   "outputs": [
    {
     "name": "stdout",
     "output_type": "stream",
     "text": [
      "Hello Khaled!\n",
      "Hello Mahmoud!\n",
      "Hello Ahmed!\n",
      "Hello Mostafa!\n",
      "Hello Ali!\n"
     ]
    }
   ],
   "source": [
    "for item in student_names:\n",
    "    print('Hello ' + item + '!')"
   ]
  },
  {
   "cell_type": "code",
   "execution_count": 10,
   "id": "9b3633f5-f267-4eba-9b9b-a85e228dfd1c",
   "metadata": {},
   "outputs": [
    {
     "data": {
      "text/plain": [
       "['Khaled', 'Mahmoud', 'Ahmed', 'Mostafa']"
      ]
     },
     "execution_count": 10,
     "metadata": {},
     "output_type": "execute_result"
    }
   ],
   "source": [
    "long_names = []\n",
    "for item in student_names:\n",
    "    # This is our criterion\n",
    "    if len(item) > 4:\n",
    "        long_names.append(item)\n",
    "\n",
    "long_names"
   ]
  },
  {
   "cell_type": "code",
   "execution_count": 11,
   "id": "ccda12bd-7c09-42a6-b8ca-59c487cf6e6c",
   "metadata": {},
   "outputs": [
    {
     "data": {
      "text/plain": [
       "[('Khaled', 'Khaled'),\n",
       " ('Khaled', 'Mahmoud'),\n",
       " ('Khaled', 'Ahmed'),\n",
       " ('Khaled', 'Mostafa'),\n",
       " ('Khaled', 'Ali'),\n",
       " ('Mahmoud', 'Khaled'),\n",
       " ('Mahmoud', 'Mahmoud'),\n",
       " ('Mahmoud', 'Ahmed'),\n",
       " ('Mahmoud', 'Mostafa'),\n",
       " ('Mahmoud', 'Ali'),\n",
       " ('Ahmed', 'Khaled'),\n",
       " ('Ahmed', 'Mahmoud'),\n",
       " ('Ahmed', 'Ahmed'),\n",
       " ('Ahmed', 'Mostafa'),\n",
       " ('Ahmed', 'Ali'),\n",
       " ('Mostafa', 'Khaled'),\n",
       " ('Mostafa', 'Mahmoud'),\n",
       " ('Mostafa', 'Ahmed'),\n",
       " ('Mostafa', 'Mostafa'),\n",
       " ('Mostafa', 'Ali'),\n",
       " ('Ali', 'Khaled'),\n",
       " ('Ali', 'Mahmoud'),\n",
       " ('Ali', 'Ahmed'),\n",
       " ('Ali', 'Mostafa'),\n",
       " ('Ali', 'Ali')]"
      ]
     },
     "execution_count": 11,
     "metadata": {},
     "output_type": "execute_result"
    }
   ],
   "source": [
    "student_pairs = []\n",
    "for student_name_0 in student_names:\n",
    "    for student_name_1 in student_names:\n",
    "        student_pairs.append(\n",
    "            (student_name_0, student_name_1)\n",
    "        )\n",
    "\n",
    "student_pairs"
   ]
  },
  {
   "cell_type": "code",
   "execution_count": 12,
   "id": "499b9861-5d3b-44c2-a9bb-8a88247e23a0",
   "metadata": {},
   "outputs": [
    {
     "data": {
      "text/plain": [
       "[('Khaled', 'Mahmoud'),\n",
       " ('Khaled', 'Ahmed'),\n",
       " ('Khaled', 'Mostafa'),\n",
       " ('Khaled', 'Ali'),\n",
       " ('Mahmoud', 'Khaled'),\n",
       " ('Mahmoud', 'Ahmed'),\n",
       " ('Mahmoud', 'Mostafa'),\n",
       " ('Mahmoud', 'Ali'),\n",
       " ('Ahmed', 'Khaled'),\n",
       " ('Ahmed', 'Mahmoud'),\n",
       " ('Ahmed', 'Mostafa'),\n",
       " ('Ahmed', 'Ali'),\n",
       " ('Mostafa', 'Khaled'),\n",
       " ('Mostafa', 'Mahmoud'),\n",
       " ('Mostafa', 'Ahmed'),\n",
       " ('Mostafa', 'Ali'),\n",
       " ('Ali', 'Khaled'),\n",
       " ('Ali', 'Mahmoud'),\n",
       " ('Ali', 'Ahmed'),\n",
       " ('Ali', 'Mostafa')]"
      ]
     },
     "execution_count": 12,
     "metadata": {},
     "output_type": "execute_result"
    }
   ],
   "source": [
    "student_pairs = []\n",
    "for student_name_0 in student_names:\n",
    "    for student_name_1 in student_names:\n",
    "        # This is the criterion we added\n",
    "        if student_name_0 != student_name_1:\n",
    "            student_pairs.append(\n",
    "                (student_name_0, student_name_1)\n",
    "            )\n",
    "\n",
    "student_pairs"
   ]
  },
  {
   "cell_type": "code",
   "execution_count": 16,
   "id": "7b9f18e8-200f-49f8-a19c-bd514238b298",
   "metadata": {},
   "outputs": [
    {
     "data": {
      "text/plain": [
       "'French'"
      ]
     },
     "execution_count": 16,
     "metadata": {},
     "output_type": "execute_result"
    }
   ],
   "source": [
    "foreign_languages = {\n",
    "    'Mahmoud': 'Spanish',\n",
    "    'Emad': 'French',\n",
    "    'Ali': 'Italian',\n",
    "    'Hesham': 'Italian',\n",
    "}\n",
    "foreign_languages['Emad']"
   ]
  },
  {
   "cell_type": "code",
   "execution_count": 17,
   "id": "95d41adc-b696-4b67-a23f-a107c1e3fd2a",
   "metadata": {},
   "outputs": [
    {
     "data": {
      "text/plain": [
       "False"
      ]
     },
     "execution_count": 17,
     "metadata": {},
     "output_type": "execute_result"
    }
   ],
   "source": [
    "'Ahmed' in foreign_languages"
   ]
  },
  {
   "cell_type": "code",
   "execution_count": 18,
   "id": "ceeb635e-e6b5-424e-a325-8e890224ffd3",
   "metadata": {},
   "outputs": [
    {
     "data": {
      "text/plain": [
       "True"
      ]
     },
     "execution_count": 18,
     "metadata": {},
     "output_type": "execute_result"
    }
   ],
   "source": [
    "'Ali' in foreign_languages"
   ]
  },
  {
   "cell_type": "code",
   "execution_count": 19,
   "id": "51f6c3d3-8a7a-409d-ae8d-aa111db6d92a",
   "metadata": {},
   "outputs": [
    {
     "data": {
      "text/plain": [
       "{'Mahmoud': 'Spanish',\n",
       " 'Emad': 'French',\n",
       " 'Ali': 'Italian',\n",
       " 'Hesham': 'Italian',\n",
       " 'Ahmed': 'French'}"
      ]
     },
     "execution_count": 19,
     "metadata": {},
     "output_type": "execute_result"
    }
   ],
   "source": [
    "foreign_languages['Ahmed'] = 'French'\n",
    "foreign_languages"
   ]
  },
  {
   "cell_type": "code",
   "execution_count": 21,
   "id": "2f72ed74-b754-46d4-816a-c43e69357205",
   "metadata": {},
   "outputs": [
    {
     "data": {
      "text/plain": [
       "{'Mahmoud': 'Spanish',\n",
       " 'Emad': 'French',\n",
       " 'Hesham': 'Italian',\n",
       " 'Ahmed': 'French'}"
      ]
     },
     "execution_count": 21,
     "metadata": {},
     "output_type": "execute_result"
    }
   ],
   "source": [
    "del foreign_languages['Ali']\n",
    "foreign_languages"
   ]
  },
  {
   "cell_type": "code",
   "execution_count": 22,
   "id": "30733e74-36b1-42b4-9eb3-1fa07874b9d3",
   "metadata": {},
   "outputs": [
    {
     "data": {
      "text/plain": [
       "{'Mahmoud': 'Spanish',\n",
       " 'Emad': 'Italian',\n",
       " 'Hesham': 'Italian',\n",
       " 'Ahmed': 'French'}"
      ]
     },
     "execution_count": 22,
     "metadata": {},
     "output_type": "execute_result"
    }
   ],
   "source": [
    "foreign_languages['Emad'] = 'Italian'\n",
    "foreign_languages"
   ]
  },
  {
   "cell_type": "code",
   "execution_count": 23,
   "id": "41da4111-d82f-423e-80eb-21add33ad519",
   "metadata": {},
   "outputs": [
    {
     "name": "stdout",
     "output_type": "stream",
     "text": [
      "Mahmoud is taking Spanish\n",
      "Emad is taking Italian\n",
      "Hesham is taking Italian\n",
      "Ahmed is taking French\n"
     ]
    }
   ],
   "source": [
    "for key in foreign_languages:\n",
    "    value = foreign_languages[key]\n",
    "    print(key, 'is taking', value)"
   ]
  },
  {
   "cell_type": "code",
   "execution_count": 24,
   "id": "afcac332-e2aa-4fc0-aafb-037e364f46bc",
   "metadata": {},
   "outputs": [
    {
     "name": "stdout",
     "output_type": "stream",
     "text": [
      "Mahmoud is taking Spanish\n",
      "Emad is taking Italian\n",
      "Hesham is taking Italian\n",
      "Ahmed is taking French\n"
     ]
    }
   ],
   "source": [
    "for key, value in foreign_languages.items():\n",
    "    print(key, 'is taking', value)"
   ]
  },
  {
   "cell_type": "code",
   "execution_count": 25,
   "id": "273e8cbd-b656-4741-bcc7-8e15523ecd6b",
   "metadata": {},
   "outputs": [
    {
     "name": "stdout",
     "output_type": "stream",
     "text": [
      "Mahmoud got a grade of A in Spanish\n"
     ]
    }
   ],
   "source": [
    "record = {\n",
    "    'name': 'Mahmoud',\n",
    "    'subject': 'Spanish',\n",
    "    'grade': 'A',\n",
    "}\n",
    "print(record['name'],\n",
    "      'got a grade of', record['grade'],\n",
    "      'in', record['subject'])"
   ]
  },
  {
   "cell_type": "code",
   "execution_count": 26,
   "id": "b24e9180-5060-41ae-b2e9-8c76ff168feb",
   "metadata": {},
   "outputs": [
    {
     "data": {
      "text/plain": [
       "('Ali', 'French', 'C')"
      ]
     },
     "execution_count": 26,
     "metadata": {},
     "output_type": "execute_result"
    }
   ],
   "source": [
    "student_grades = [\n",
    "    ('Mahmoud', 'Spanish', 'A'),\n",
    "    ('Ali', 'French', 'C'),\n",
    "    ('Ahmed', 'Italian', 'B+'),\n",
    "    ('Emad', 'Italian', 'A-'),\n",
    "]\n",
    "student_grades[1]\n"
   ]
  },
  {
   "cell_type": "code",
   "execution_count": 33,
   "id": "89d14c59-eb8f-4507-b6d4-221db78caf65",
   "metadata": {},
   "outputs": [
    {
     "data": {
      "text/plain": [
       "[{'name': 'Mahmoud', 'subject': 'Spanish', 'grade': 'A'},\n",
       " {'name': 'Ali', 'subject': 'French', 'grade': 'C'},\n",
       " {'name': 'Ahmed', 'subject': 'Italian', 'grade': 'B+'},\n",
       " {'name': 'Emad', 'subject': 'Italian', 'grade': 'A-'}]"
      ]
     },
     "execution_count": 33,
     "metadata": {},
     "output_type": "execute_result"
    }
   ],
   "source": [
    "student_grade_records = []\n",
    "for student_name, subject, grade in student_grades:\n",
    "    record = {\n",
    "        'name': student_name,\n",
    "        'subject': subject,\n",
    "        'grade': grade,\n",
    "    }\n",
    "    student_grade_records.append(record)\n",
    "    \n",
    "student_grade_records"
   ]
  },
  {
   "cell_type": "code",
   "execution_count": 34,
   "id": "28f8a0c1-8789-49b2-9dfa-a4b781569831",
   "metadata": {},
   "outputs": [
    {
     "data": {
      "text/plain": [
       "{'name': 'Ali', 'subject': 'French', 'grade': 'C'}"
      ]
     },
     "execution_count": 34,
     "metadata": {},
     "output_type": "execute_result"
    }
   ],
   "source": [
    "student_grade_records[1]"
   ]
  },
  {
   "cell_type": "code",
   "execution_count": 35,
   "id": "7f0c842b-18e9-4cdf-8b53-63e795582b27",
   "metadata": {},
   "outputs": [
    {
     "data": {
      "text/plain": [
       "{'Mahmoud': {'subject': 'Spanish', 'grade': 'A'},\n",
       " 'Ali': {'subject': 'French', 'grade': 'C'},\n",
       " 'Ahmed': {'subject': 'Italian', 'grade': 'B+'},\n",
       " 'Emad': {'subject': 'Italian', 'grade': 'A-'}}"
      ]
     },
     "execution_count": 35,
     "metadata": {},
     "output_type": "execute_result"
    }
   ],
   "source": [
    "foreign_language_grades = {}\n",
    "for student_name, subject, grade in student_grades:\n",
    "    record = {\n",
    "        'subject': subject,\n",
    "        'grade': grade,\n",
    "    }\n",
    "    foreign_language_grades[student_name] = record\n",
    "    \n",
    "foreign_language_grades"
   ]
  },
  {
   "cell_type": "code",
   "execution_count": 36,
   "id": "24961cb3-9661-4a0f-807b-3aa4b6d5a706",
   "metadata": {},
   "outputs": [
    {
     "data": {
      "text/plain": [
       "{'subject': 'Spanish', 'grade': 'A'}"
      ]
     },
     "execution_count": 36,
     "metadata": {},
     "output_type": "execute_result"
    }
   ],
   "source": [
    "foreign_language_grades['Mahmoud']"
   ]
  },
  {
   "cell_type": "code",
   "execution_count": 37,
   "id": "99d21b58-0016-4dc4-b8be-1334dbecbd89",
   "metadata": {},
   "outputs": [
    {
     "data": {
      "text/plain": [
       "'A'"
      ]
     },
     "execution_count": 37,
     "metadata": {},
     "output_type": "execute_result"
    }
   ],
   "source": [
    "foreign_language_grades['Mahmoud']['grade']"
   ]
  },
  {
   "cell_type": "code",
   "execution_count": 38,
   "id": "692939df-143c-4c38-a84c-a186706fc13b",
   "metadata": {},
   "outputs": [
    {
     "data": {
      "text/plain": [
       "{('Mahmoud', 'Spanish'): 'A',\n",
       " ('Ali', 'French'): 'C',\n",
       " ('Ahmed', 'Italian'): 'B+',\n",
       " ('Emad', 'Italian'): 'A-'}"
      ]
     },
     "execution_count": 38,
     "metadata": {},
     "output_type": "execute_result"
    }
   ],
   "source": [
    "student_course_grades = {}\n",
    "for student_name, subject, grade in student_grades:\n",
    "    student_course_grades[student_name, subject] = grade\n",
    "    \n",
    "student_course_grades"
   ]
  },
  {
   "cell_type": "code",
   "execution_count": 39,
   "id": "9c82434a-0df6-44a4-947b-58f306e5cb2a",
   "metadata": {},
   "outputs": [
    {
     "data": {
      "text/plain": [
       "{('Mahmoud', 'Spanish'): 'A',\n",
       " ('Ali', 'French'): 'C',\n",
       " ('Ahmed', 'Italian'): 'B+',\n",
       " ('Emad', 'Italian'): 'A-',\n",
       " ('Mahmoud', 'Math'): 'A',\n",
       " ('Emad', 'History'): 'B'}"
      ]
     },
     "execution_count": 39,
     "metadata": {},
     "output_type": "execute_result"
    }
   ],
   "source": [
    "student_course_grades['Mahmoud', 'Math'] = 'A'\n",
    "student_course_grades['Emad', 'History'] = 'B'\n",
    "student_course_grades"
   ]
  },
  {
   "cell_type": "code",
   "execution_count": 40,
   "id": "9257cc16-1c79-4d5a-8262-734bf73f5e64",
   "metadata": {},
   "outputs": [
    {
     "data": {
      "text/plain": [
       "{'Mahmoud': {'Spanish': 'A'},\n",
       " 'Ali': {'French': 'C'},\n",
       " 'Ahmed': {'Italian': 'B+'},\n",
       " 'Emad': {'Italian': 'A-'}}"
      ]
     },
     "execution_count": 40,
     "metadata": {},
     "output_type": "execute_result"
    }
   ],
   "source": [
    "student_report_cards = {}\n",
    "for student_name, subject, grade in student_grades:\n",
    "    # If there is no report card for a student,\n",
    "    # we need to create a blank one\n",
    "    if student_name not in student_report_cards:\n",
    "        student_report_cards[student_name] = {}\n",
    "    student_report_cards[student_name][subject] = grade\n",
    "student_report_cards"
   ]
  },
  {
   "cell_type": "code",
   "execution_count": 41,
   "id": "c7ab4996-32a6-4ddf-ba80-06dca0a85ea9",
   "metadata": {},
   "outputs": [
    {
     "data": {
      "text/plain": [
       "{'Mahmoud': {'Spanish': 'A'},\n",
       " 'Ali': {'French': 'C', 'Math': 'A', 'History': 'B'},\n",
       " 'Ahmed': {'Italian': 'B+'},\n",
       " 'Emad': {'Italian': 'A-'}}"
      ]
     },
     "execution_count": 41,
     "metadata": {},
     "output_type": "execute_result"
    }
   ],
   "source": [
    "student_report_cards['Ali']['Math'] = 'A'\n",
    "student_report_cards['Ali']['History'] = 'B'\n",
    "student_report_cards"
   ]
  },
  {
   "cell_type": "code",
   "execution_count": 42,
   "id": "694b109f-58c7-4e3e-b4ee-f5b1d17afe39",
   "metadata": {},
   "outputs": [
    {
     "data": {
      "text/plain": [
       "{'French': 'C', 'Math': 'A', 'History': 'B'}"
      ]
     },
     "execution_count": 42,
     "metadata": {},
     "output_type": "execute_result"
    }
   ],
   "source": [
    "student_report_cards['Ali']"
   ]
  },
  {
   "cell_type": "code",
   "execution_count": null,
   "id": "8468b005-b387-466f-a14f-b4f4d9cf7ea4",
   "metadata": {},
   "outputs": [],
   "source": []
  }
 ],
 "metadata": {
  "kernelspec": {
   "display_name": "Python 3 (ipykernel)",
   "language": "python",
   "name": "python3"
  },
  "language_info": {
   "codemirror_mode": {
    "name": "ipython",
    "version": 3
   },
   "file_extension": ".py",
   "mimetype": "text/x-python",
   "name": "python",
   "nbconvert_exporter": "python",
   "pygments_lexer": "ipython3",
   "version": "3.9.7"
  }
 },
 "nbformat": 4,
 "nbformat_minor": 5
}
